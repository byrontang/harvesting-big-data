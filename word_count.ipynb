{
 "cells": [
  {
   "cell_type": "code",
   "execution_count": 1,
   "metadata": {
    "collapsed": true
   },
   "outputs": [],
   "source": [
    "# Read file\n",
    "twitterRDD = sc.textFile(\"C:/Users/byron/Documents/UMN/MSBA 6330 Harvesting Big Data/Project/data_big/data_big_text.csv\").cache()\n",
    "#twitterRDD.take(5)"
   ]
  },
  {
   "cell_type": "code",
   "execution_count": 2,
   "metadata": {
    "collapsed": true
   },
   "outputs": [],
   "source": [
    "# Function to clean words\n",
    "def normalizeWords(word):\n",
    "    new_word = word.lower().replace(\"u'\",'').replace('[', '').replace(']', '').replace(',', '').replace(\"'\", '')\\\n",
    "        .replace('\"','').replace(\"(\",'').replace(\")\",'').replace(\"!\",'').replace(\"?\",'').replace(\":\",'')   \n",
    "    if new_word != '':\n",
    "        return new_word\n",
    "    else:\n",
    "        return 'NA'"
   ]
  },
  {
   "cell_type": "code",
   "execution_count": 4,
   "metadata": {
    "collapsed": false
   },
   "outputs": [
    {
     "data": {
      "text/plain": [
       "[(u'tweet', 1),\n",
       " (u'content', 1),\n",
       " (u'rt', 1),\n",
       " (u'@dillonfrancis', 1),\n",
       " (u'dude', 1),\n",
       " (u'@calvinharris', 1),\n",
       " (u'fucking', 1),\n",
       " (u'amazing', 1),\n",
       " (u'https//t.co/pbnzr86zqi', 1),\n",
       " (u'apple', 1)]"
      ]
     },
     "execution_count": 4,
     "metadata": {},
     "output_type": "execute_result"
    }
   ],
   "source": [
    "# Build paired RDD\n",
    "twitterRDD_word = twitterRDD.flatMap(lambda line: line.split()).map(lambda word: normalizeWords(word)).map(lambda word: (word,1))\n",
    "twitterRDD_word.take(10)"
   ]
  },
  {
   "cell_type": "code",
   "execution_count": 7,
   "metadata": {
    "collapsed": true
   },
   "outputs": [],
   "source": [
    "# Build stop words and punctuation lists\n",
    "import re\n",
    "stopWords = open('C:/Users/byron/Documents/UMN/MSBA 6330 Harvesting Big Data/Project/data_big/stop-words.txt', 'r')\n",
    "sWords = re.split(r'\\n', stopWords.read())\n",
    "marks = [',','-','&amp;','??','+','|','...',':','!','\"']"
   ]
  },
  {
   "cell_type": "code",
   "execution_count": 8,
   "metadata": {
    "collapsed": false
   },
   "outputs": [
    {
     "data": {
      "text/plain": [
       "[(u'tweet', 1),\n",
       " (u'content', 1),\n",
       " (u'rt', 1),\n",
       " (u'@dillonfrancis', 1),\n",
       " (u'dude', 1)]"
      ]
     },
     "execution_count": 8,
     "metadata": {},
     "output_type": "execute_result"
    }
   ],
   "source": [
    "# Filter words\n",
    "twitterRDD_word_filtered = twitterRDD_word.filter(lambda (k,v) : k not in sWords).filter(lambda (k,v) : k not in marks)\n",
    "twitterRDD_word_filtered.take(5)"
   ]
  },
  {
   "cell_type": "code",
   "execution_count": 9,
   "metadata": {
    "collapsed": false
   },
   "outputs": [
    {
     "data": {
      "text/plain": [
       "[(71746, u'apple'),\n",
       " (49048, u'rt'),\n",
       " (28618, 'NA'),\n",
       " (23285, u'now'),\n",
       " (14711, u'music'),\n",
       " (11310, u'iphone'),\n",
       " (10981, u'bid'),\n",
       " (9247, u'itunes'),\n",
       " (8481, u'eli'),\n",
       " (7891, u'new'),\n",
       " (7029, u'#views'),\n",
       " (6776, u'available'),\n",
       " (6677, u'@drake'),\n",
       " (5403, u'16gb'),\n",
       " (5111, u'app'),\n",
       " (5038, u'views'),\n",
       " (4845, u'ipad'),\n",
       " (4843, u'listen'),\n",
       " (4644, u'smartphone'),\n",
       " (4248, u'get')]"
      ]
     },
     "execution_count": 9,
     "metadata": {},
     "output_type": "execute_result"
    }
   ],
   "source": [
    "# Count words and sort by count\n",
    "twitterRDD_wordCount = twitterRDD_word_filtered.reduceByKey(lambda a1,a2: a1 + a2).map(lambda (a,b): (b,a)).sortByKey(ascending=False)\n",
    "twitterRDD_wordCount.take(20)"
   ]
  },
  {
   "cell_type": "code",
   "execution_count": 10,
   "metadata": {
    "collapsed": true
   },
   "outputs": [],
   "source": [
    "# Save result in csv file\n",
    "twitterRDD_wordCount.saveAsTextFile('C:/Users/byron/Documents/UMN/MSBA 6330 Harvesting Big Data/Project/data_big/word_count_new.csv')"
   ]
  }
 ],
 "metadata": {
  "kernelspec": {
   "display_name": "Python 2",
   "language": "python",
   "name": "python2"
  },
  "language_info": {
   "codemirror_mode": {
    "name": "ipython",
    "version": 2
   },
   "file_extension": ".py",
   "mimetype": "text/x-python",
   "name": "python",
   "nbconvert_exporter": "python",
   "pygments_lexer": "ipython2",
   "version": "2.7.11"
  }
 },
 "nbformat": 4,
 "nbformat_minor": 0
}
