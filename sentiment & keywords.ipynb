{
 "cells": [
  {
   "cell_type": "code",
   "execution_count": 1,
   "metadata": {
    "collapsed": false
   },
   "outputs": [
    {
     "data": {
      "text/plain": [
       "[[u'Tweet content'],\n",
       " [u'RT @DILLONFRANCIS: Dude @CalvinHarris fucking amazing!! https://t.co/pbNZr86ZQi'],\n",
       " [u'Apple iPod classic 7th Generation Black (160 GB) https://t.co/RA5Rw9cbbB https://t.co/MaOcoRfnjJ'],\n",
       " [u'\"Apple iPhone 6 - 16GB - Gold (Sprint) Clean Serial Number',\n",
       "  u' Has 1 issue',\n",
       "  u' read des - Bid Now\\ufffd https://t.co/ewrYsGJQSx https://t.co/yJzJFApW6E\"'],\n",
       " [u'Get Jokey Smurfs brand smurfin new hut to play his Stocking Stuffer mini game. #SmurfsVillage https://t.co/EcuBV0OaVV']]"
      ]
     },
     "execution_count": 1,
     "metadata": {},
     "output_type": "execute_result"
    }
   ],
   "source": [
    "# Read files\n",
    "twitterRDD = sc.textFile(\"C:/Users/byron/Documents/UMN/MSBA 6330 Harvesting Big Data/Project/data_big/data_big_text.csv\").cache()\n",
    "\n",
    "twitterRDD_split = twitterRDD.map(lambda line: line.split(\",\")).cache()\n",
    "twitterRDD_split.take(5)"
   ]
  },
  {
   "cell_type": "code",
   "execution_count": 2,
   "metadata": {
    "collapsed": true
   },
   "outputs": [],
   "source": [
    "# Function to clean words\n",
    "def cleanWords(word):\n",
    "    new_word = str(word).lower().replace(\"u'\",'').replace('[', '').replace(']', '').replace(',', '').replace(\"'\", '')\\\n",
    "        .replace('\"','').replace(\"(\",'').replace(\")\",'').replace(\"!\",'').replace(\"?\",'').replace(\":\",'')   \n",
    "    if new_word != '':\n",
    "        return new_word\n",
    "    else:\n",
    "        return 'NA'"
   ]
  },
  {
   "cell_type": "code",
   "execution_count": 3,
   "metadata": {
    "collapsed": false
   },
   "outputs": [],
   "source": [
    "twitterRDD_cleaned = twitterRDD_split.map(lambda line: cleanWords(line))"
   ]
  },
  {
   "cell_type": "code",
   "execution_count": 4,
   "metadata": {
    "collapsed": true
   },
   "outputs": [],
   "source": [
    "# import positive and negative words\n",
    "import re\n",
    "positiveWords = open('C:/Users/byron/Documents/UMN/MSBA 6330 Harvesting Big Data/Project/data_big/positive-words.txt', 'r')\n",
    "negativeWords = open('C:/Users/byron/Documents/UMN/MSBA 6330 Harvesting Big Data/Project/data_big/negative-words.txt', 'r')\n",
    "posWords = re.split(r'\\n', positiveWords.read())\n",
    "negWords = re.split(r'\\n', negativeWords.read())\n",
    "\n",
    "# This files and the papers of positive and negative words can all be downloaded from \n",
    "#    http://www.cs.uic.edu/~liub/FBS/sentiment-analysis.html\n",
    "#\n",
    "# Sources:\n",
    "#\n",
    "#   Minqing Hu and Bing Liu. \"Mining and Summarizing Customer Reviews.\" \n",
    "#       Proceedings of the ACM SIGKDD International Conference on Knowledge \n",
    "#       Discovery and Data Mining (KDD-2004), Aug 22-25, 2004, Seattle, \n",
    "#       Washington, USA, \n",
    "#   Bing Liu, Minqing Hu and Junsheng Cheng. \"Opinion Observer: Analyzing \n",
    "#       and Comparing Opinions on the Web.\" Proceedings of the 14th \n",
    "#       International World Wide Web conference (WWW-2005), May 10-14, \n",
    "#       2005, Chiba, Japan."
   ]
  },
  {
   "cell_type": "code",
   "execution_count": 5,
   "metadata": {
    "collapsed": true
   },
   "outputs": [],
   "source": [
    "# Function for sentiment analysis\n",
    "def lookup_for(line):\n",
    "    word_list = str(line).split()\n",
    "    word_count = len(word_list)\n",
    "    positive_words = 0\n",
    "    negative_words = 0\n",
    "    #offset of words you want to look for \n",
    "    for word in word_list: \n",
    "        if word.lower() in posWords:\n",
    "            positive_words +=1\n",
    "        if word.lower() in negWords:\n",
    "            negative_words +=1\n",
    "    score = float(positive_words - negative_words) / word_count\n",
    "            \n",
    "    return score"
   ]
  },
  {
   "cell_type": "code",
   "execution_count": 6,
   "metadata": {
    "collapsed": false
   },
   "outputs": [
    {
     "data": {
      "text/plain": [
       "[0.0, 0.0, 0.1, 0.047619047619047616, 0.0]"
      ]
     },
     "execution_count": 6,
     "metadata": {},
     "output_type": "execute_result"
    }
   ],
   "source": [
    "# Calculate sentiment\n",
    "twitterScoresRDD = twitterRDD_cleaned.map(lookup_for).cache()\n",
    "twitterScoresRDD.take(5)"
   ]
  },
  {
   "cell_type": "code",
   "execution_count": 7,
   "metadata": {
    "collapsed": false
   },
   "outputs": [
    {
     "data": {
      "text/plain": [
       "118356"
      ]
     },
     "execution_count": 7,
     "metadata": {},
     "output_type": "execute_result"
    }
   ],
   "source": [
    "twitterScoresRDD.count()"
   ]
  },
  {
   "cell_type": "code",
   "execution_count": 8,
   "metadata": {
    "collapsed": false
   },
   "outputs": [
    {
     "data": {
      "text/plain": [
       "0.5"
      ]
     },
     "execution_count": 8,
     "metadata": {},
     "output_type": "execute_result"
    }
   ],
   "source": [
    "twitterScoresRDD.max()"
   ]
  },
  {
   "cell_type": "code",
   "execution_count": 9,
   "metadata": {
    "collapsed": false
   },
   "outputs": [
    {
     "data": {
      "text/plain": [
       "-0.6666666666666666"
      ]
     },
     "execution_count": 9,
     "metadata": {},
     "output_type": "execute_result"
    }
   ],
   "source": [
    "twitterScoresRDD.min()"
   ]
  },
  {
   "cell_type": "code",
   "execution_count": 10,
   "metadata": {
    "collapsed": false
   },
   "outputs": [
    {
     "data": {
      "text/plain": [
       "0.016272906862605675"
      ]
     },
     "execution_count": 10,
     "metadata": {},
     "output_type": "execute_result"
    }
   ],
   "source": [
    "twitterScoresRDD.mean()"
   ]
  },
  {
   "cell_type": "code",
   "execution_count": 11,
   "metadata": {
    "collapsed": true
   },
   "outputs": [],
   "source": [
    "# Save result in csv file\n",
    "#strRDD = twitterScoresRDD.map(lambda a : str(a) + \",\")\n",
    "#strRDD.saveAsTextFile('C:/Users/byron/Documents/UMN/MSBA 6330 Harvesting Big Data/Project/data_big/sentiment_scores_new.csv')"
   ]
  },
  {
   "cell_type": "code",
   "execution_count": 12,
   "metadata": {
    "collapsed": false
   },
   "outputs": [
    {
     "data": {
      "text/plain": [
       "[(0.0, 118331),\n",
       " (0.0, 118332),\n",
       " (0.0, 118333),\n",
       " (0.0, 118334),\n",
       " (0.0625, 118335),\n",
       " (0.0, 118336),\n",
       " (0.0, 118337),\n",
       " (0.0, 118338),\n",
       " (0.0, 118339),\n",
       " (0.058823529411764705, 118340),\n",
       " (0.0, 118341),\n",
       " (0.0, 118342),\n",
       " (0.0, 118343),\n",
       " (0.0, 118344),\n",
       " (0.0, 118345),\n",
       " (0.0, 118346),\n",
       " (0.07142857142857142, 118347),\n",
       " (0.0, 118348),\n",
       " (0.0, 118349),\n",
       " (0.0, 118350),\n",
       " (0.08333333333333333, 118351),\n",
       " (-0.21052631578947367, 118352),\n",
       " (0.0, 118353),\n",
       " (0.0, 118354),\n",
       " (0.1, 118355)]"
      ]
     },
     "execution_count": 12,
     "metadata": {},
     "output_type": "execute_result"
    }
   ],
   "source": [
    "# Verify last 15 rows\n",
    "twitterScoresRDD.zipWithIndex().filter(lambda tup: tup[1] > 118330).collect()"
   ]
  },
  {
   "cell_type": "code",
   "execution_count": 18,
   "metadata": {
    "collapsed": false
   },
   "outputs": [],
   "source": [
    "# Get special topics for analysis\n",
    "music = ['music', 'music.']\n",
    "iphone = ['iphone']\n",
    "ipad = ['ipad', 'ipod']\n",
    "drake = ['drake', '@drake']\n",
    "itunes = ['itunes']\n",
    "\n",
    "def lookup_for_topic(line, alist):\n",
    "    word_list = str(line).split()\n",
    "    has_word = 0\n",
    "    for word in word_list: \n",
    "        if word.lower() in alist:\n",
    "            has_word = 1\n",
    "    \n",
    "    return has_word\n",
    "\n",
    "musicRDD = twitterRDD_cleaned.map(lambda line: lookup_for_topic(line, music)).map(lambda a : str(a) + \",\")\n",
    "iphoneRDD = twitterRDD_cleaned.map(lambda line: lookup_for_topic(line, iphone)).map(lambda a : str(a) + \",\")\n",
    "ipadRDD = twitterRDD_cleaned.map(lambda line: lookup_for_topic(line, ipad)).map(lambda a : str(a) + \",\")\n",
    "drakeRDD = twitterRDD_cleaned.map(lambda line: lookup_for_topic(line, drake)).map(lambda a : str(a) + \",\")\n",
    "itunesRDD = twitterRDD_cleaned.map(lambda line: lookup_for_topic(line, itunes)).map(lambda a : str(a) + \",\")\n",
    "\n",
    "#musicRDD.saveAsTextFile('C:/Users/byron/Documents/UMN/MSBA 6330 Harvesting Big Data/Project/data_big/aboutMusic.csv')\n",
    "#iphoneRDD.saveAsTextFile('C:/Users/byron/Documents/UMN/MSBA 6330 Harvesting Big Data/Project/data_big/aboutiPhone.csv')\n",
    "#ipadRDD.saveAsTextFile('C:/Users/byron/Documents/UMN/MSBA 6330 Harvesting Big Data/Project/data_big/aboutiPad.csv')\n",
    "#drakeRDD.saveAsTextFile('C:/Users/byron/Documents/UMN/MSBA 6330 Harvesting Big Data/Project/data_big/aboutDrake.csv')\n",
    "#itunesRDD.saveAsTextFile('C:/Users/byron/Documents/UMN/MSBA 6330 Harvesting Big Data/Project/data_big/aboutiTune.csv')"
   ]
  },
  {
   "cell_type": "code",
   "execution_count": null,
   "metadata": {
    "collapsed": true
   },
   "outputs": [],
   "source": []
  }
 ],
 "metadata": {
  "kernelspec": {
   "display_name": "Python 2",
   "language": "python",
   "name": "python2"
  },
  "language_info": {
   "codemirror_mode": {
    "name": "ipython",
    "version": 2
   },
   "file_extension": ".py",
   "mimetype": "text/x-python",
   "name": "python",
   "nbconvert_exporter": "python",
   "pygments_lexer": "ipython2",
   "version": "2.7.11"
  }
 },
 "nbformat": 4,
 "nbformat_minor": 0
}
